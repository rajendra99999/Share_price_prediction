{
 "cells": [
  {
   "cell_type": "code",
   "execution_count": 1,
   "id": "persistent-ranch",
   "metadata": {},
   "outputs": [],
   "source": [
    "import pandas as pd\n",
    "import numpy as np"
   ]
  },
  {
   "cell_type": "code",
   "execution_count": 2,
   "id": "outstanding-contact",
   "metadata": {},
   "outputs": [
    {
     "name": "stdout",
     "output_type": "stream",
     "text": [
      "current market price: 236\n",
      "profit growth rate: 0.08\n",
      "analyze on: monthly\n",
      "predicted price based on company perfotmance is:  248.8\n"
     ]
    }
   ],
   "source": [
    "# company performance \n",
    "tt={'intraday':0.25,'weekly':0.71,'monthly':0.66,'yearly':1}\n",
    "p0=float(input('current market price: '))\n",
    "r=float(input('profit growth rate: '))\n",
    "t=str(input('analyze on: '))\n",
    "for i, j in tt.items():\n",
    "    if i==t:\n",
    "        t_v=j\n",
    "cp=p0*np.math.exp(r*t_v)\n",
    "print('predicted price based on company perfotmance is: ', round(cp,2))"
   ]
  },
  {
   "cell_type": "code",
   "execution_count": 4,
   "id": "regulation-minutes",
   "metadata": {},
   "outputs": [
    {
     "name": "stdout",
     "output_type": "stream",
     "text": [
      "previous day/week/month/year clossing price: 235\n",
      "previous to previous day/week/month/year clossing price: 245\n",
      "if news is positive +1, neutral 0 else -1: 1\n",
      "news impact intensity from range 0 to 10 : 7\n",
      "probality of impact range 0 to 1: 0.4\n"
     ]
    }
   ],
   "source": [
    "# news impact\n",
    "pc=float(input('previous day/week/month/year clossing price: '))\n",
    "pc2=float(input('previous to previous day/week/month/year clossing price: '))\n",
    "sign=int(input('if news is positive +1, neutral 0 else -1: '))\n",
    "ni=int(input('news impact intensity from range 0 to 10 : '))\n",
    "pi=float(input('probality of impact range 0 to 1: '))\n",
    "nii=sign*ni*pi\n",
    "v=abs((pc-pc2)/t_v)\n",
    "a=v/t_v\n",
    "cn=nii*a*(np.math.exp(-t_v))"
   ]
  },
  {
   "cell_type": "code",
   "execution_count": 44,
   "id": "average-capture",
   "metadata": {},
   "outputs": [
    {
     "data": {
      "image/png": "[encoded data removed]",
      "text/plain": [
       "<Figure size 432x288 with 1 Axes>"
      ]
     },
     "metadata": {
      "needs_background": "light"
     },
     "output_type": "display_data"
    }
   ],
   "source": [
    "import matplotlib.pyplot as plt\n",
    "yx=[]\n",
    "for i in range(20):\n",
    "    y=np.math.exp(i)\n",
    "    yx.append(y)\n",
    "plt.plot(range(20),yx)\n",
    "plt.show()"
   ]
  },
  {
   "cell_type": "code",
   "execution_count": 5,
   "id": "prostate-transport",
   "metadata": {
    "scrolled": true
   },
   "outputs": [
    {
     "name": "stdout",
     "output_type": "stream",
     "text": [
      "industry growth rate: 0.06\n"
     ]
    }
   ],
   "source": [
    "# investor Sentiment\n",
    "ig=float(input('industry growth rate: '))\n",
    "ir=v*t_v\n",
    "cs=ig*ir*v*np.math.exp(t_v)"
   ]
  },
  {
   "cell_type": "code",
   "execution_count": 9,
   "id": "confident-specification",
   "metadata": {},
   "outputs": [
    {
     "data": {
      "text/plain": [
       "(248.79563214549452, 17.58902122183665, 33.222767139044024)"
      ]
     },
     "execution_count": 9,
     "metadata": {},
     "output_type": "execute_result"
    }
   ],
   "source": [
    "cp,cs,cn"
   ]
  },
  {
   "cell_type": "code",
   "execution_count": 10,
   "id": "living-weapon",
   "metadata": {},
   "outputs": [
    {
     "name": "stdout",
     "output_type": "stream",
     "text": [
      "Dividend amount: 10\n",
      "dividend yield: 0.045\n",
      "no of days to issue dividend8\n"
     ]
    }
   ],
   "source": [
    "# dividend impact \n",
    "d=float(input('Dividend amount: '))\n",
    "rd=float(input('dividend yield: '))\n",
    "n=int(input('no of days to issue dividend'))\n",
    "cd=d*np.math.exp(-rd*n)"
   ]
  },
  {
   "cell_type": "code",
   "execution_count": 11,
   "id": "rotary-tourism",
   "metadata": {},
   "outputs": [
    {
     "data": {
      "text/plain": [
       "6.97676326071031"
      ]
     },
     "execution_count": 11,
     "metadata": {},
     "output_type": "execute_result"
    }
   ],
   "source": [
    "cd"
   ]
  },
  {
   "cell_type": "code",
   "execution_count": 12,
   "id": "affecting-lancaster",
   "metadata": {},
   "outputs": [
    {
     "name": "stdout",
     "output_type": "stream",
     "text": [
      "your monthly Prediction on share is 292.63 \n"
     ]
    }
   ],
   "source": [
    "# consolidated price \n",
    "p1=cp+cs+cn-cd\n",
    "print('your {} Prediction on share is {} '.format(t,round(p1,2)))"
   ]
  },
  {
   "cell_type": "code",
   "execution_count": null,
   "id": "composed-ireland",
   "metadata": {},
   "outputs": [],
   "source": []
  }
 ],
 "metadata": {
  "kernelspec": {
   "display_name": "Python 3",
   "language": "python",
   "name": "python3"
  },
  "language_info": {
   "codemirror_mode": {
    "name": "ipython",
    "version": 3
   },
   "file_extension": ".py",
   "mimetype": "text/x-python",
   "name": "python",
   "nbconvert_exporter": "python",
   "pygments_lexer": "ipython3",
   "version": "3.9.2"
  }
 },
 "nbformat": 4,
 "nbformat_minor": 5
}
